{
 "cells": [
  {
   "cell_type": "markdown",
   "metadata": {},
   "source": [
    "# SpotRM API with Python: basic examples"
   ]
  },
  {
   "cell_type": "markdown",
   "metadata": {},
   "source": [
    "## A mix of several (basic) examples on how to use the API to access SpotRM Web.\n",
    " \n",
    "BSD 3-Clause License<br>\n",
    "Copyright (c) 2020/2021 Awametox AB<br>\n",
    "You should have received a copy of the BSD 3-Clause License\n",
    "along with this script; <br>\n",
    "if not, see <https://github.com/Awamegit/SpotRM_API_examples/blob/master/LICENSE>\n"
   ]
  },
  {
   "cell_type": "code",
   "execution_count": 1,
   "metadata": {},
   "outputs": [],
   "source": [
    "import requests\n",
    "import json\n",
    "from requests.auth import HTTPBasicAuth\n",
    "import os"
   ]
  },
  {
   "cell_type": "code",
   "execution_count": 2,
   "metadata": {},
   "outputs": [],
   "source": [
    "BASEURL = \"https://www.spotrm.com/api/v1\"\n",
    "# username/password either clear text:\n",
    "#authData = HTTPBasicAuth('my_email@somewhere.com', 'my_super_secure_PassW0rd!')\n",
    "# alternativly define in your os environment, then use this line instead:\n",
    "authData = HTTPBasicAuth(os.environ[\"MYEMAILVARIABLE\"], os.environ[\"MYPASSWORDVARIABLE\"])"
   ]
  },
  {
   "cell_type": "markdown",
   "metadata": {},
   "source": [
    "### Here a simple example (using a function) to retrieve help information:"
   ]
  },
  {
   "cell_type": "code",
   "execution_count": 3,
   "metadata": {},
   "outputs": [],
   "source": [
    "def testHelp():\n",
    "    url = BASEURL + \"/help\"\n",
    "    response = requests.get(url, auth=authData)\n",
    "    print(response) #<Respons [200]> = ok; 4 or 500 different forms of http errors\n",
    "    respDict = json.loads(response.text)\n",
    "    for key in respDict:\n",
    "        print(key + \": \" + respDict[key])"
   ]
  },
  {
   "cell_type": "code",
   "execution_count": 4,
   "metadata": {},
   "outputs": [
    {
     "name": "stdout",
     "output_type": "stream",
     "text": [
      "<Response [200]>\n",
      "/api/v1/get/drug/id/<id>: Find all data on a drug with the supplied ID\n",
      "/api/v1/get/drug/smarts_id/<smarts_id>: Get drug records linked to given smarts_id\n",
      "/api/v1/get/image/inchi: Generate highlighted image of InChI where it matches <smarts_id>\n",
      "/api/v1/get/image/molfile: Generate highlighted image of molfile where it matches <smarts_id>\n",
      "/api/v1/get/image/smiles: Generate highlighted image of <smiles> where it matches <smarts_id>\n",
      "/api/v1/help: Print available functions and their documentation.\n",
      "/api/v1/search/drug/substructure/inchi: Find all drugs containing your query structure posted as InChI as a substructure\n",
      "/api/v1/search/drug/substructure/molfile: Find all drugs containing your query structure posted as Molfile as a substructure\n",
      "/api/v1/search/drug/substructure/smiles: Find all drugs containing your query posted as smiles as a substructure\n",
      "/api/v1/search/drug/text/<text>: Find all drugs with <text> in their records\n",
      "/api/v1/search/smarts/inchi: Find all SMARTS which match the posted inchi\n",
      "/api/v1/search/smarts/molfile: Find all SMARTS which match the posted molfile\n",
      "/api/v1/search/smarts/smiles: Find all SMARTS which match query posted smiles\n",
      "/api/v1/tokens/: Return an HTTPBasic authentication token valid for 1h\n",
      "/api/v1/version: Print current version\n"
     ]
    }
   ],
   "source": [
    "if __name__ == \"__main__\":\n",
    "\n",
    "    testHelp()\n",
    "    "
   ]
  },
  {
   "cell_type": "markdown",
   "metadata": {},
   "source": [
    "### Here an example of checking for a drug ID (ID = SpotRM database specific):"
   ]
  },
  {
   "cell_type": "code",
   "execution_count": 5,
   "metadata": {},
   "outputs": [
    {
     "name": "stdout",
     "output_type": "stream",
     "text": [
      "\n",
      "---- JSON output unformatted -----\n",
      "{'ChemName': '4-dimethylamino-1,5-dimethyl-2-phenyl-pyrazol-3-one', 'ColourCode': 'Red', 'DrugName': 'aminophenazone', 'MarketStatus': 'Withdrawn in the 1970s', 'References': [{'Ref': 'aminophenazone.pdf', 'RefType': 'Mgph'}], 'Synonym': 'aminopyrine'}\n",
      "\n",
      "---- JSON output formatted 1 -----\n",
      "{\n",
      "  \"ChemName\": \"4-dimethylamino-1,5-dimethyl-2-phenyl-pyrazol-3-one\",\n",
      "  \"ColourCode\": \"Red\",\n",
      "  \"DrugName\": \"aminophenazone\",\n",
      "  \"MarketStatus\": \"Withdrawn in the 1970s\",\n",
      "  \"References\": [\n",
      "    {\n",
      "      \"Ref\": \"aminophenazone.pdf\",\n",
      "      \"RefType\": \"Mgph\"\n",
      "    }\n",
      "  ],\n",
      "  \"Synonym\": \"aminopyrine\"\n",
      "}\n",
      "\n",
      "---- JSON output formatted 2 -----\n",
      "ChemName  =  4-dimethylamino-1,5-dimethyl-2-phenyl-pyrazol-3-one\n",
      "ColourCode  =  Red\n",
      "DrugName  =  aminophenazone\n",
      "MarketStatus  =  Withdrawn in the 1970s\n",
      "References  =  [{'Ref': 'aminophenazone.pdf', 'RefType': 'Mgph'}]\n",
      "Synonym  =  aminopyrine\n"
     ]
    }
   ],
   "source": [
    "    lookup_an_ID = requests.get(BASEURL + \"/get/drug/id/1\", auth=authData)\n",
    "    #print(lookup_an_ID)  #optional\n",
    "    respDict = json.loads(lookup_an_ID.text)\n",
    "\n",
    "    print(\"\\n---- JSON output unformatted -----\")\n",
    "    print(respDict)\n",
    "    \n",
    "    print(\"\\n---- JSON output formatted 1 -----\")\n",
    "    print(json.dumps(respDict, indent = 2))\n",
    "    \n",
    "    print(\"\\n---- JSON output formatted 2 -----\")\n",
    "    for key, value in respDict.items():\n",
    "        print(key, \" = \", value)  "
   ]
  },
  {
   "cell_type": "code",
   "execution_count": 6,
   "metadata": {},
   "outputs": [
    {
     "name": "stdout",
     "output_type": "stream",
     "text": [
      "\n",
      "---- single value output, e.g. formatted in color -----\n",
      "\u001b[31maminophenazone\u001b[0m\n"
     ]
    }
   ],
   "source": [
    "    # a single value only (of above example)\n",
    "    from termcolor import colored\n",
    "    outCol = respDict['ColourCode'].lower()\n",
    "    print(\"\\n---- single value output, e.g. formatted in color -----\")\n",
    "    print(colored(respDict['DrugName'],outCol))"
   ]
  },
  {
   "cell_type": "markdown",
   "metadata": {},
   "source": [
    "### Here an example of searching for a smiles (using POST):"
   ]
  },
  {
   "cell_type": "code",
   "execution_count": 7,
   "metadata": {},
   "outputs": [
    {
     "name": "stdout",
     "output_type": "stream",
     "text": [
      "{\n",
      "  \"219\": {\n",
      "    \"ChemName\": \"1-[4-(1,3-benzodioxol-5-ylmethyl)piperazin-1-yl]-2-(4-chlorophenoxy)ethanone\",\n",
      "    \"ColourCode\": \"Red\",\n",
      "    \"DrugName\": \"fipexide\",\n",
      "    \"MarketStatus\": \"Withdrawn 1991\",\n",
      "    \"References\": [\n",
      "      {\n",
      "        \"Name\": \"Fipexide_ChSpider\",\n",
      "        \"Ref\": \"https://www.chemspider.com/Chemical-Structure.3234.html?rid=360570d9-65fb-4fca-9a5a-01b4774c467c\",\n",
      "        \"RefType\": \"Link\"\n",
      "      }\n",
      "    ],\n",
      "    \"Synonym\": null\n",
      "  }\n",
      "}\n"
     ]
    }
   ],
   "source": [
    "    url = \"https://www.spotrm.com/api/v1/search/drug/substructure/smiles\"\n",
    "    smiles = \"C1CN(CCN1CC2=CC3=C(C=C2)OCO3)C(=O)COC4=CC=C(C=C4)Cl\"\n",
    "    #smiles = \"CC(=O)NC1=CC=C(O)C=C1\"\n",
    "    headers = {\"content-type\": \"application/json\"}\n",
    "    response = requests.post(url, data=json.dumps(smiles), headers=headers, auth=authData)\n",
    "    #print(response) #optional\n",
    "    respDict = json.loads(response.text)\n",
    "    print(json.dumps(respDict, indent = 2)) # JSON formatted      "
   ]
  },
  {
   "cell_type": "code",
   "execution_count": null,
   "metadata": {},
   "outputs": [],
   "source": []
  }
 ],
 "metadata": {
  "kernelspec": {
   "display_name": "Python 3",
   "language": "python",
   "name": "python3"
  },
  "language_info": {
   "codemirror_mode": {
    "name": "ipython",
    "version": 3
   },
   "file_extension": ".py",
   "mimetype": "text/x-python",
   "name": "python",
   "nbconvert_exporter": "python",
   "pygments_lexer": "ipython3",
   "version": "3.7.7"
  }
 },
 "nbformat": 4,
 "nbformat_minor": 2
}
