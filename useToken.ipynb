{
 "cells": [
  {
   "cell_type": "markdown",
   "metadata": {},
   "source": [
    "# SpotRM API with Python: token usage"
   ]
  },
  {
   "cell_type": "markdown",
   "metadata": {},
   "source": [
    "BSD 3-Clause License<br>\n",
    "Copyright (c) 2020, Awametox AB<br>\n",
    "You should have received a copy of the BSD 3-Clause License\n",
    "along with this script; <br>\n",
    "if not, see <https://github.com/Awamegit/SpotRM_API_examples/blob/master/LICENSE>"
   ]
  },
  {
   "cell_type": "markdown",
   "metadata": {},
   "source": [
    "Added usage of dotenv as a more secure and convenient to define username, password, etc."
   ]
  },
  {
   "cell_type": "code",
   "execution_count": null,
   "metadata": {},
   "outputs": [],
   "source": [
    "!pip install requests python-dotenv\n",
    "import json\n",
    "import os\n",
    "\n",
    "import requests\n",
    "from dotenv import load_dotenv\n",
    "from requests.auth import HTTPBasicAuth"
   ]
  },
  {
   "cell_type": "code",
   "execution_count": 2,
   "metadata": {},
   "outputs": [],
   "source": [
    "#\n",
    "#  Start by defining the server, the access credentials and a few convenience shortcuts.\n",
    "#\n",
    "load_dotenv()\n",
    "BASEURL = \"https://www.spotrm.com/api/v1\"\n",
    "# Read the your SpotRM username / password from the environment:\n",
    "authData = HTTPBasicAuth(os.environ[\"USER\"], os.environ[\"PASSWORD\"])\n",
    "\n",
    "# One could for quicktesting also use this syntax:\n",
    "# authData = HTTPBasicAuth('my_email@somewhere.com', 'my_super_secure_PassW0rd!')\n",
    "# but it has the disadvantage of leaking the credentials in the code.\n",
    "headers = {\"content-type\": \"application/json\"}"
   ]
  },
  {
   "cell_type": "markdown",
   "metadata": {},
   "source": [
    "Example of getting and using an authorisation access token rather than sending\n",
    "one's credentials with every request.\n",
    "\n",
    "Here using a smiles string based search"
   ]
  },
  {
   "cell_type": "code",
   "execution_count": 3,
   "metadata": {},
   "outputs": [],
   "source": [
    "def get_api_token() -> tuple[str, str] | None:\n",
    "    \"\"\" Function to retrieve api authentication token\n",
    "    :return: The token to use for authentication; second element required, but not used.\n",
    "    \"\"\"\n",
    "    url = f\"{BASEURL}/tokens/\"\n",
    "    response = requests.post(url, auth=authData)\n",
    "    if response.status_code == 200:\n",
    "        return response.json().get(\"token\", \"\"), \"\"\n",
    "    else:\n",
    "        error_message = response.json().get(\"message\", \"Unknown error\")\n",
    "        print(f\"There was an error: {error_message}\")\n",
    "        return None\n",
    "\n",
    "\n",
    "def get_alerts(smiles: list, token: str) -> dict | None:\n",
    "    \"\"\" Use token to query database to find alerts for a smiles string\n",
    "\n",
    "    :param smiles: The SMILES string for which to find alerts\n",
    "    :param token: The token to use for authentication\n",
    "    :return: alert ID and the alert description\n",
    "    \"\"\"\n",
    "\n",
    "    url = f\"{BASEURL}/search/smarts/smiles\"\n",
    "    response = requests.post(url, data=json.dumps(smiles), headers=headers, auth=token)\n",
    "    if response.status_code == 200:\n",
    "        return response.json()\n",
    "    else:\n",
    "        error_message = response.json().get(\"message\", \"Unknown error\")\n",
    "        print(f\"There was an error: {error_message}\")\n",
    "        return None\n",
    "\n",
    "\n",
    "def get_drug(alertID: list, token: tuple) -> dict | None:\n",
    "    \"\"\" Use the obained token to find drugs associated with an alert ID:\n",
    "    :param alertID: The alert ID for which to find drugs\n",
    "    :param token: The token to use for authentication\n",
    "    :return: A dictionary with the drugs associated with the alert ID\n",
    "    \"\"\"\n",
    "    url = f\"{BASEURL}/get/drug/smarts_id/{alertID}\"\n",
    "    response = requests.get(url, auth=token)\n",
    "    if response.status_code == 200:\n",
    "        return response.json()\n",
    "    else:\n",
    "        error_message = response.json().get(\"message\", \"Unknown error\")\n",
    "        print(f\"There was an error in get_drug function: {error_message}\")\n",
    "        return None\n",
    "\n",
    "\n",
    "def main():\n",
    "    token = get_api_token()\n",
    "    if token:\n",
    "        alerts = get_alerts(\"c1ccccc1N(C)C\", token)\n",
    "\n",
    "        print(\"\\nThe following alert was found for your structure:\")\n",
    "        for item in alerts:\n",
    "            print(\"Alert ID: \" + item[0] + ' is \"' + item[1] + '\"')\n",
    "        drugs = get_drug(alerts[0][0], token)\n",
    "        print(\"\\nThe following drugs are associated with this alert:\")\n",
    "        for key in drugs:\n",
    "            print(drugs[key][\"DrugName\"])\n",
    "    else:\n",
    "        print(\"Failed to retrieve token.\")"
   ]
  },
  {
   "cell_type": "code",
   "execution_count": 4,
   "metadata": {},
   "outputs": [
    {
     "name": "stdout",
     "output_type": "stream",
     "text": [
      "\n",
      "The following alert was found for your structure:\n",
      "Alert ID: 3 is \"4-H-Benzene-N-C (not acyl)\"\n",
      "\n",
      "The following drugs are associated with this alert:\n",
      "propyphenazone\n",
      "nefazodone\n",
      "trazodone\n",
      "lumiracoxib\n",
      "diclofenac\n",
      "clozapine\n",
      "olanzapine\n",
      "quetiapine\n",
      "fluperlapine\n",
      "mianserin\n",
      "imipramine\n",
      "erlotinib\n",
      "phenylbutazone\n",
      "chlorpromazine\n",
      "panadiplon\n",
      "1-Arylpyrazoles\n",
      "loxapine\n",
      "mefenamic acid\n",
      "idelalisib\n",
      "edaravone\n",
      "meclofenamic acid\n",
      "brexpiprazole\n",
      "metalaxyl\n",
      "elacestrant\n"
     ]
    }
   ],
   "source": [
    "if __name__ == \"__main__\":\n",
    "\n",
    "    main()"
   ]
  }
 ],
 "metadata": {
  "kernelspec": {
   "display_name": "Python 3",
   "language": "python",
   "name": "python3"
  },
  "language_info": {
   "codemirror_mode": {
    "name": "ipython",
    "version": 3
   },
   "file_extension": ".py",
   "mimetype": "text/x-python",
   "name": "python",
   "nbconvert_exporter": "python",
   "pygments_lexer": "ipython3",
   "version": "3.11.8"
  }
 },
 "nbformat": 4,
 "nbformat_minor": 2
}
