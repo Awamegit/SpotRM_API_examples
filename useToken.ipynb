{
 "cells": [
  {
   "cell_type": "markdown",
   "metadata": {},
   "source": [
    "# SpotRM API with Python: token useage"
   ]
  },
  {
   "cell_type": "markdown",
   "metadata": {},
   "source": [
    "BSD 3-Clause License<br>\n",
    "Copyright (c) 2020, Awametox AB<br>\n",
    "You should have received a copy of the BSD 3-Clause License\n",
    "along with this script; <br>\n",
    "if not, see <https://github.com/Awamegit/SpotRM_API_examples/blob/master/LICENSE>"
   ]
  },
  {
   "cell_type": "code",
   "execution_count": 3,
   "metadata": {},
   "outputs": [],
   "source": [
    "import requests\n",
    "import json\n",
    "from requests.auth import HTTPBasicAuth\n",
    "import os"
   ]
  },
  {
   "cell_type": "code",
   "execution_count": 9,
   "metadata": {},
   "outputs": [
    {
     "ename": "SyntaxError",
     "evalue": "unexpected EOF while parsing (<ipython-input-9-e9304890a474>, line 15)",
     "output_type": "error",
     "traceback": [
      "\u001b[1;36m  File \u001b[1;32m\"<ipython-input-9-e9304890a474>\"\u001b[1;36m, line \u001b[1;32m15\u001b[0m\n\u001b[1;33m    \u001b[0m\n\u001b[1;37m    ^\u001b[0m\n\u001b[1;31mSyntaxError\u001b[0m\u001b[1;31m:\u001b[0m unexpected EOF while parsing\n"
     ]
    }
   ],
   "source": [
    "#\n",
    "#  Start by defining the server, the access credentials and a few convenience shortcuts.\n",
    "#\n",
    "\n",
    "BASEURL = \"https://www.spotrm.com/api/v1\"\n",
    "headers = {\"content-type\": \"application/json\"}\n",
    "\n",
    "# Read the your SpotRM username / password from the environment:\n",
    "#authData = HTTPBasicAuth(os.environ[\"TEST_USERNAME\"], os.environ[\"TEST_PASSWORD\"])\n",
    "\n",
    "authData = HTTPBasicAuth(os.environ[\"STDEMAIL\"], os.environ[\"SPOTRM_PWD\"]\n",
    "# Could also encode it in clear text in the script but take care shareing it or\n",
    "# using version control:\n",
    "# authData = HTTPBasicAuth('my_email@somewhere.com', 'my_super_secure_PassW0rd!')\n",
    "                         "
   ]
  },
  {
   "cell_type": "markdown",
   "metadata": {},
   "source": [
    "Example of getting and using an authorisation access token rather than sending\n",
    "one's credentials with every request.\n",
    "\n",
    "Here using a smiles string based search"
   ]
  },
  {
   "cell_type": "code",
   "execution_count": null,
   "metadata": {},
   "outputs": [],
   "source": [
    "#\n",
    "# Function to retrieve token\n",
    "#\n",
    "def getToken():\n",
    "    url = BASEURL + \"/tokens/\"\n",
    "    response = requests.post(url, auth=authData)\n",
    "    if response.status_code == 200:\n",
    "        return (json.loads(response.text)[\"token\"], \"\")\n",
    "    else:\n",
    "        print(\"There was an error: \" + json.loads(response.text)[\"message\"])\n",
    "\n",
    "\n",
    "#\n",
    "# Use token to query database to find alerts for a smiles string:\n",
    "#\n",
    "def getAlerts(smiles, token):\n",
    "    url = BASEURL + \"/search/smarts/smiles\"\n",
    "    response = requests.post(url, data=json.dumps(smiles), headers=headers, auth=token)\n",
    "    if response.status_code == 200:\n",
    "        return json.loads(response.text)\n",
    "    else:\n",
    "        print(\"There was an error: \" + json.loads(response.text)[\"message\"])\n",
    "\n",
    "\n",
    "#\n",
    "# Use the token again to find drugs associated with an alert ID:\n",
    "#\n",
    "def getDrug(alertID, token):\n",
    "    url = BASEURL + \"/get/drug/smarts_id/\" + alertID\n",
    "    response = requests.get(url, auth=token)\n",
    "    if response.status_code == 200:\n",
    "        respDict = json.loads(response.text)\n",
    "        return respDict\n",
    "    else:\n",
    "        print(\"There was an error: \" + json.loads(response.text)[\"message\"])\n",
    "\n",
    "def main():\n",
    "    token = getToken()\n",
    "    alerts = getAlerts(\"c1ccccc1N(C)C\", token)\n",
    "    print(\"\\nThe following alert was found for your structure:\")\n",
    "    for item in alerts:\n",
    "        print(\"Alert ID: \" + item[0] + ' is \"' + item[1] + '\"')\n",
    "    drugs = getDrug(alerts[0][0], token)\n",
    "    print(\"\\nThe following drugs are associated with this alert:\")\n",
    "    for key in drugs:\n",
    "        print(drugs[key][\"DrugName\"])"
   ]
  },
  {
   "cell_type": "code",
   "execution_count": null,
   "metadata": {},
   "outputs": [],
   "source": [
    "if __name__ == \"__main__\":\n",
    "\n",
    "    main()"
   ]
  }
 ],
 "metadata": {
  "kernelspec": {
   "display_name": "Python 3",
   "language": "python",
   "name": "python3"
  },
  "language_info": {
   "codemirror_mode": {
    "name": "ipython",
    "version": 3
   },
   "file_extension": ".py",
   "mimetype": "text/x-python",
   "name": "python",
   "nbconvert_exporter": "python",
   "pygments_lexer": "ipython3",
   "version": "3.7.4"
  }
 },
 "nbformat": 4,
 "nbformat_minor": 2
}
