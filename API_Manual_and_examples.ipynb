{
 "cells": [
  {
   "cell_type": "markdown",
   "metadata": {},
   "source": [
    "# SpotRM API (Python)"
   ]
  },
  {
   "cell_type": "markdown",
   "metadata": {},
   "source": [
    "# API Manual, including examples \n",
    " \n",
    "BSD 3-Clause License<br>\n",
    "Copyright (c) 2020/2021 Awametox AB<br>\n",
    "You should have received a copy of the BSD 3-Clause License\n",
    "along with this script; <br>\n",
    "if not, see <https://github.com/Awamegit/SpotRM_API_examples/blob/master/LICENSE>\n",
    "\n",
    "### 1. Introduction & Essential set-up\n",
    "SpotRM on the Web comes with an API that is included in the subsription. It should allow for individual mining of your data vs the SpotRM database. E.g. different views, integration into your cheminformatics system, high-throuput analysis, etc, etc. <br>\n",
    "Here we show the principle use of the API with some basic and some more advanced examples, based on Python in this Jupyter Notebook."
   ]
  },
  {
   "cell_type": "markdown",
   "metadata": {},
   "source": [
    "*First of, some minimum, essential library imports:*"
   ]
  },
  {
   "cell_type": "code",
   "execution_count": 1,
   "metadata": {},
   "outputs": [],
   "source": [
    "import requests\n",
    "import json\n",
    "from requests.auth import HTTPBasicAuth"
   ]
  },
  {
   "cell_type": "markdown",
   "metadata": {},
   "source": [
    "*Additional (optional)libraries:*"
   ]
  },
  {
   "cell_type": "code",
   "execution_count": 2,
   "metadata": {},
   "outputs": [],
   "source": [
    "import os\n",
    "import rdkit"
   ]
  },
  {
   "cell_type": "markdown",
   "metadata": {},
   "source": [
    "*repeating variables for get and put* <br>\n",
    "Furthermore authentication access. There are two options here: either clear text (not recommendable). Use:<br>\n",
    "`authData = HTTPBasicAuth('my_email@somewhere.com', 'my_super_secure_PassW0rd!` <br>\n",
    "Here we make use of the username and password stored in our OS environment. In this case called *STDEMAIL* and *SPOTRM_PWD*.<br>\n",
    "Every API call later made will contain authentication info."
   ]
  },
  {
   "cell_type": "code",
   "execution_count": 9,
   "metadata": {},
   "outputs": [],
   "source": [
    "BASEURL = \"https://www.spotrm.com/api/v1\"\n",
    "headers = {\"content-type\": \"application/json\"}\n",
    "authData = HTTPBasicAuth(os.environ[\"STDEMAIL\"], os.environ[\"SPOTRM_PWD\"])"
   ]
  },
  {
   "cell_type": "markdown",
   "metadata": {},
   "source": [
    "You can also create a token for authenticating yourself:"
   ]
  },
  {
   "cell_type": "code",
   "execution_count": 7,
   "metadata": {},
   "outputs": [],
   "source": [
    "url = BASEURL + \"/tokens/\"\n",
    "response = requests.post(url, auth=authData)\n",
    "token = json.loads(response.text)[\"token\"]"
   ]
  },
  {
   "cell_type": "markdown",
   "metadata": {},
   "source": [
    "Instead of using *authData* as `auth`, you can now use the token instead as an additional layer of security."
   ]
  },
  {
   "cell_type": "markdown",
   "metadata": {},
   "source": [
    "### 2. Get help on API via API\n",
    "This section describes a simple and minimalistic API call requesting */help*. This will list all possible API calls. Username and Password are used for the authentication. <br>\n",
    "The returned data is always formatted as JSON. In Python this can be dealt with as a dictionary. Note that parts of the entrie in such a dictionary may contain a list, particularly *References* which in turn may contain a dictionary. <br>\n",
    "You can use the standard http(s) error code list to check for status errors. Code 200 stands for no error (i.e. ok)."
   ]
  },
  {
   "cell_type": "code",
   "execution_count": 5,
   "metadata": {},
   "outputs": [
    {
     "name": "stdout",
     "output_type": "stream",
     "text": [
      "/api/v1/get/drug/id/<id>: Find all data on a drug with the supplied ID\n",
      "/api/v1/get/drug/smarts_id/<smarts_id>: Get drug records linked to given smarts_id\n",
      "/api/v1/get/image/inchi: Generate highlighted image of InChI where it matches <smarts_id>\n",
      "/api/v1/get/image/molfile: Generate highlighted image of molfile where it matches <smarts_id>\n",
      "/api/v1/get/image/smiles: Generate highlighted image of <smiles> where it matches <smarts_id>\n",
      "/api/v1/help: Print available functions and their documentation.\n",
      "/api/v1/search/drug/substructure/inchi: Find all drugs containing your query structure posted as InChI as a substructure\n",
      "/api/v1/search/drug/substructure/molfile: Find all drugs containing your query structure posted as Molfile as a substructure\n",
      "/api/v1/search/drug/substructure/smiles: Find all drugs containing your query posted as smiles as a substructure\n",
      "/api/v1/search/drug/text/<text>: Find all drugs with <text> in their records\n",
      "/api/v1/search/smarts/inchi: Find all SMARTS which match the posted inchi\n",
      "/api/v1/search/smarts/molfile: Find all SMARTS which match the posted molfile\n",
      "/api/v1/search/smarts/smiles: Find all SMARTS which match query posted smiles\n",
      "/api/v1/tokens/: Return an HTTPBasic authentication token valid for 1h\n",
      "/api/v1/version: Print current version\n"
     ]
    }
   ],
   "source": [
    "response = requests.get(BASEURL + \"/help\", auth=authData)\n",
    "respDict = json.loads(response.text)\n",
    "if response.status_code == 200:\n",
    "    for key in respDict:\n",
    "        print(key + \": \" + respDict[key])    \n",
    "else:\n",
    "    print(\"There was an error: \" + json.loads(response.text)[\"message\"])"
   ]
  },
  {
   "cell_type": "markdown",
   "metadata": {},
   "source": [
    "### 3. Examples of API calls\n",
    "Following here are some examples of API calls. Very simplistic, including means of output/working with the JSON format. The latter really depends on your use case.\n",
    "#### 3.1  Here an example of checking for a drug ID (ID = SpotRM database specific):\n",
    "This is a simple example where you would use the SPOT RM database ID of a drug (known/retrieved by other means, see further below). <br>Note: no error checking is done in this example when looking at ID #3.<br>\n",
    "Also note how *References* is a list of dictionaries within the dictionary output."
   ]
  },
  {
   "cell_type": "code",
   "execution_count": 16,
   "metadata": {},
   "outputs": [
    {
     "name": "stdout",
     "output_type": "stream",
     "text": [
      "\n",
      "---- JSON output raw / unformatted -----\n",
      "{'ChemName': '1,5-dimethyl-2-phenyl-pyrazol-3-one', 'ColourCode': 'Orange', 'DrugName': 'phenazone', 'MarketStatus': 'On the market (2020)', 'References': [{'Ref': 'aminophenazone.pdf', 'RefType': 'Mgph'}], 'Synonym': 'antipyrine'}\n",
      "\n",
      "---- JSON output formatted 1 -----\n",
      "{\n",
      "  \"ChemName\": \"1,5-dimethyl-2-phenyl-pyrazol-3-one\",\n",
      "  \"ColourCode\": \"Orange\",\n",
      "  \"DrugName\": \"phenazone\",\n",
      "  \"MarketStatus\": \"On the market (2020)\",\n",
      "  \"References\": [\n",
      "    {\n",
      "      \"Ref\": \"aminophenazone.pdf\",\n",
      "      \"RefType\": \"Mgph\"\n",
      "    }\n",
      "  ],\n",
      "  \"Synonym\": \"antipyrine\"\n",
      "}\n",
      "\n",
      "---- JSON output formatted 2 -----\n",
      "ChemName  =  1,5-dimethyl-2-phenyl-pyrazol-3-one\n",
      "ColourCode  =  Orange\n",
      "DrugName  =  phenazone\n",
      "MarketStatus  =  On the market (2020)\n",
      "References  =  [{'Ref': 'aminophenazone.pdf', 'RefType': 'Mgph'}]\n",
      "Synonym  =  antipyrine\n"
     ]
    }
   ],
   "source": [
    "lookup_an_ID = requests.get(BASEURL + \"/get/drug/id/3\", auth=authData)\n",
    "respDict = json.loads(lookup_an_ID.text)\n",
    "\n",
    "print(\"\\n---- JSON output raw / unformatted -----\")\n",
    "print(respDict)\n",
    "    \n",
    "print(\"\\n---- JSON output formatted 1 -----\")\n",
    "print(json.dumps(respDict, indent = 2))\n",
    "    \n",
    "print(\"\\n---- JSON output formatted 2 -----\")\n",
    "for key, value in respDict.items():\n",
    "    print(key, \" = \", value)  "
   ]
  },
  {
   "cell_type": "code",
   "execution_count": 25,
   "metadata": {},
   "outputs": [
    {
     "name": "stdout",
     "output_type": "stream",
     "text": [
      "\n",
      "---- single value output, e.g. formatted in color -----\n",
      "\u001b[33mphenazone\u001b[0m\n"
     ]
    }
   ],
   "source": [
    "# a single value only (of above example)\n",
    "from termcolor import colored\n",
    "outCol = respDict['ColourCode']\n",
    "if outCol == 'Orange':\n",
    "    outCol = 'yellow'\n",
    "else:\n",
    "    outCol = outCol.lower()\n",
    "\n",
    "print(\"\\n---- single value output, e.g. formatted in color -----\")\n",
    "print(colored(text=respDict['DrugName'],color=outCol))"
   ]
  },
  {
   "cell_type": "markdown",
   "metadata": {},
   "source": [
    "#### 3.2 substructure searching\n",
    "Here an example on using substructre searching of a smiles string. This uses a POST call. <br>\n",
    "(simple print output)"
   ]
  },
  {
   "cell_type": "code",
   "execution_count": 30,
   "metadata": {},
   "outputs": [
    {
     "name": "stdout",
     "output_type": "stream",
     "text": [
      "{\n",
      "  \"40\": {\n",
      "    \"ChemName\": \"N-(4-{[2-hydroxy-3-(propan-2-ylamino)propyl]oxy}phenyl)acetamide\",\n",
      "    \"ColourCode\": \"Red\",\n",
      "    \"DrugName\": \"practolol\",\n",
      "    \"MarketStatus\": \"Withdrawn\",\n",
      "    \"References\": [\n",
      "      {\n",
      "        \"Ref\": \"practolol.pdf\",\n",
      "        \"RefType\": \"Mgph\"\n",
      "      }\n",
      "    ],\n",
      "    \"Synonym\": \"\"\n",
      "  },\n",
      "  \"76\": {\n",
      "    \"ChemName\": \"N-(4-hydroxyphenyl)acetamide\",\n",
      "    \"ColourCode\": \"Red\",\n",
      "    \"DrugName\": \"paracetamol\",\n",
      "    \"MarketStatus\": \"On the market (2020)\",\n",
      "    \"References\": [\n",
      "      {\n",
      "        \"Ref\": \"paracetamol.pdf\",\n",
      "        \"RefType\": \"Mgph\"\n",
      "      },\n",
      "      {\n",
      "        \"Ref\": \"MiC_BQI.pdf\",\n",
      "        \"RefType\": \"MiC\"\n",
      "      }\n",
      "    ],\n",
      "    \"Synonym\": \"acetaminophen\"\n",
      "  },\n",
      "  \"96\": {\n",
      "    \"ChemName\": \"4-butyl-1-(4-hydroxyphenyl)-2-phenylpyrazolidine-3,5-dione\",\n",
      "    \"ColourCode\": \"Red\",\n",
      "    \"DrugName\": \"oxyphenbutazone\",\n",
      "    \"MarketStatus\": \"Withdrawn 1985-1986\",\n",
      "    \"References\": [\n",
      "      {\n",
      "        \"Ref\": \"oxyphenbutazone.pdf\",\n",
      "        \"RefType\": \"Mgph\"\n",
      "      }\n",
      "    ],\n",
      "    \"Synonym\": \"\"\n",
      "  },\n",
      "  \"160\": {\n",
      "    \"ChemName\": \"N-(4-ethoxyphenyl)acetamide\",\n",
      "    \"ColourCode\": \"Red\",\n",
      "    \"DrugName\": \"phenacetin\",\n",
      "    \"MarketStatus\": \"Withdrawn\",\n",
      "    \"References\": [\n",
      "      {\n",
      "        \"Ref\": \"paracetamol.pdf\",\n",
      "        \"RefType\": \"Mgph\"\n",
      "      }\n",
      "    ],\n",
      "    \"Synonym\": \"\"\n",
      "  },\n",
      "  \"266\": {\n",
      "    \"ChemName\": \"N-[3-acetyl-4-[2-hydroxy-3-(propan-2-ylamino)propoxy]phenyl]butanamide\",\n",
      "    \"ColourCode\": \"Orange\",\n",
      "    \"DrugName\": \"acebutolol\",\n",
      "    \"MarketStatus\": \"On the market (2020)\",\n",
      "    \"References\": [\n",
      "      {\n",
      "        \"Name\": \"Acebutolol_LivTox\",\n",
      "        \"Ref\": \"https://www.ncbi.nlm.nih.gov/books/NBK548853/\",\n",
      "        \"RefType\": \"Link\"\n",
      "      }\n",
      "    ],\n",
      "    \"Synonym\": null\n",
      "  }\n",
      "}\n"
     ]
    }
   ],
   "source": [
    "url = \"https://www.spotrm.com/api/v1/search/drug/substructure/smiles\"\n",
    "#smiles = \"C1CN(CCN1CC2=CC3=C(C=C2)OCO3)C(=O)COC4=CC=C(C=C4)Cl\"\n",
    "smiles = \"CC(=O)NC1=CC=C(O)C=C1\"\n",
    "headers = {\"content-type\": \"application/json\"}\n",
    "response = requests.post(url, data=json.dumps(smiles), headers=headers, auth=authData)\n",
    "respDict = json.loads(response.text)\n",
    "print(json.dumps(respDict, indent = 2))     "
   ]
  },
  {
   "cell_type": "markdown",
   "metadata": {},
   "source": [
    "#### 3.3 Obtain only the external reference for above input compound:\n",
    "The resulting *References* may contain multiple answers, often refering to the PDFs embedded in SPOTRM (currently only viewable only from SPOTRM Web GUI) and are denoted as *Reftype: Mgph* or *MiC*. External linkes are denoted as *Link*. Below example iterates through the resulting JSON and prints only the hyperlink. In Jupyter you can open this linke directly by clicking on it. "
   ]
  },
  {
   "cell_type": "code",
   "execution_count": 98,
   "metadata": {
    "scrolled": false
   },
   "outputs": [],
   "source": [
    "def getRef(refResponse):\n",
    "    for key, value in refResponse.items():\n",
    "        for key2, subvalue1 in value.items():\n",
    "            if (key2 == 'References'):\n",
    "                for subvalue2 in subvalue1:\n",
    "                    for refitem, refvalue in subvalue2.items():\n",
    "                        if(refvalue == 'Link'):\n",
    "                            print(subvalue1[0]['Ref'])"
   ]
  },
  {
   "cell_type": "markdown",
   "metadata": {},
   "source": [
    "Since we are using a function, this has to be called first. For more examples on function useage and other API examples, see chapter #4."
   ]
  },
  {
   "cell_type": "code",
   "execution_count": 99,
   "metadata": {},
   "outputs": [
    {
     "name": "stdout",
     "output_type": "stream",
     "text": [
      "https://www.ncbi.nlm.nih.gov/books/NBK548853/\n"
     ]
    }
   ],
   "source": [
    "getRef(refResponse = respDict)"
   ]
  },
  {
   "cell_type": "markdown",
   "metadata": {},
   "source": [
    "### 4. More API examples (using functions)\n",
    "Below we show some examples of API calls defined via functions; practical for more complex scripts with repeating the same type of calls.<br>\n",
    "#### All following examples use token based authentication"
   ]
  },
  {
   "cell_type": "code",
   "execution_count": 12,
   "metadata": {},
   "outputs": [],
   "source": [
    "#\n",
    "# Retrieve token\n",
    "#\n",
    "def getToken():\n",
    "    url = BASEURL + \"/tokens/\"\n",
    "    response = requests.post(url, auth=authData)\n",
    "    if response.status_code == 200:\n",
    "        return (json.loads(response.text)[\"token\"], \"\")\n",
    "    else:\n",
    "        print(\"There was an error: \" + json.loads(response.text)[\"message\"])"
   ]
  },
  {
   "cell_type": "code",
   "execution_count": 13,
   "metadata": {},
   "outputs": [],
   "source": [
    "#\n",
    "# Query database to find alerts for a smiles string:\n",
    "# (uses post)\n",
    "#\n",
    "def getAlerts(smiles, token):\n",
    "    url = BASEURL + \"/search/smarts/smiles\"\n",
    "    response = requests.post(url, data=json.dumps(smiles), headers=headers, auth=token)\n",
    "    if response.status_code == 200:\n",
    "        return json.loads(response.text)\n",
    "    else:\n",
    "        print(\"There was an error: \" + json.loads(response.text)[\"message\"])\n",
    "\n",
    "\n",
    "#\n",
    "#  Find drugs associated with an alert ID:\n",
    "#\n",
    "def getDrug(alertID, token):\n",
    "    url = BASEURL + \"/get/drug/smarts_id/\" + alertID\n",
    "    response = requests.get(url, auth=token)\n",
    "    if response.status_code == 200:\n",
    "        respDict = json.loads(response.text)\n",
    "        return respDict\n",
    "    else:\n",
    "        print(\"There was an error: \" + json.loads(response.text)[\"message\"])"
   ]
  },
  {
   "cell_type": "markdown",
   "metadata": {},
   "source": [
    "In a Jupyter notebook perhaps somewhat uneccessary would be to defind and use the function `main()`, but we include it here for the sake of typical Python (non-Jupyter) example.<br>\n",
    "This function specifically finds the SpotRM database ID of a potential alert (here for the smiles **c1ccccc1N(C)C**) then retrieves all drugs associated with that particular alert."
   ]
  },
  {
   "cell_type": "code",
   "execution_count": 14,
   "metadata": {},
   "outputs": [],
   "source": [
    "def main():\n",
    "    token = getToken()\n",
    "    alerts = getAlerts(\"c1ccccc1N(C)C\", token)\n",
    "    print(\"\\nThe following alert was found for your structure:\")\n",
    "    for item in alerts:\n",
    "        print(\"Alert ID: \" + item[0] + ' is \"' + item[1] + '\"')\n",
    "    drugs = getDrug(alerts[0][0], token)\n",
    "    print(\"\\nThe following drugs are associated with this alert:\")\n",
    "    for key in drugs:\n",
    "        print(drugs[key][\"DrugName\"])"
   ]
  },
  {
   "cell_type": "code",
   "execution_count": 15,
   "metadata": {},
   "outputs": [
    {
     "name": "stdout",
     "output_type": "stream",
     "text": [
      "\n",
      "The following alert was found for your structure:\n",
      "Alert ID: 3 is \"4-H-Benzene-N-C (not acyl)\"\n",
      "\n",
      "The following drugs are associated with this alert:\n",
      "nefazodone\n",
      "trazodone\n",
      "diclofenac\n",
      "clozapine\n",
      "olanzapine\n",
      "quetiapine\n",
      "fluperlapine\n",
      "mianserin\n",
      "imipramine\n",
      "erlotinib\n",
      "phenylbutazone\n",
      "chlorpromazine\n",
      "panadiplon\n",
      "1-Arylpyrazoles\n",
      "loxapine\n",
      "mefenamic acid\n",
      "idelalisib\n",
      "meclofenamic acid\n"
     ]
    }
   ],
   "source": [
    "if __name__ == \"__main__\":\n",
    "\n",
    "    main()"
   ]
  },
  {
   "cell_type": "code",
   "execution_count": null,
   "metadata": {},
   "outputs": [],
   "source": []
  }
 ],
 "metadata": {
  "kernelspec": {
   "display_name": "Python 3",
   "language": "python",
   "name": "python3"
  },
  "language_info": {
   "codemirror_mode": {
    "name": "ipython",
    "version": 3
   },
   "file_extension": ".py",
   "mimetype": "text/x-python",
   "name": "python",
   "nbconvert_exporter": "python",
   "pygments_lexer": "ipython3",
   "version": "3.7.7"
  }
 },
 "nbformat": 4,
 "nbformat_minor": 2
}
