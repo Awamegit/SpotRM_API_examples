{
 "cells": [
  {
   "cell_type": "markdown",
   "metadata": {},
   "source": [
    "# SpotRM API with Python: retrieving results with image"
   ]
  },
  {
   "cell_type": "markdown",
   "metadata": {},
   "source": [
    "BSD 3-Clause License<br>\n",
    "Copyright (c) 2020, Awametox AB<br>\n",
    "You should have received a copy of the BSD 3-Clause License\n",
    "along with this script; <br>\n",
    "if not, see <https://github.com/Awamegit/SpotRM_API_examples/blob/master/LICENSE>\n"
   ]
  },
  {
   "cell_type": "code",
   "execution_count": null,
   "metadata": {},
   "outputs": [],
   "source": [
    "!pip install requests python-dotenv\n",
    "import datetime\n",
    "import json\n",
    "import os\n",
    "\n",
    "import requests\n",
    "from dotenv import load_dotenv\n",
    "from requests.auth import HTTPBasicAuth\n",
    "\n",
    "from IPython.display import SVG, display  # for jupyter notebook"
   ]
  },
  {
   "cell_type": "code",
   "execution_count": 10,
   "metadata": {},
   "outputs": [],
   "source": [
    "#\n",
    "#  Start by defining the server, the access credentials and a few convenience shortcuts.\n",
    "#\n",
    "BASEURL = \"https://www.spotrm.com/api/v1\"\n",
    "# Read the your SpotRM username / password from the environment using the dotenv library\n",
    "load_dotenv()\n",
    "authData = HTTPBasicAuth(os.environ[\"USER\"], os.environ[\"PASSWORD\"])\n",
    "headers = {\"content-type\": \"application/json\"}"
   ]
  },
  {
   "cell_type": "markdown",
   "metadata": {},
   "source": [
    "Example of getting and using an authorisation access token rather than sending\n",
    "one's credentials with every request.\n",
    "\n",
    "Here using a smiles string based search"
   ]
  },
  {
   "cell_type": "code",
   "execution_count": 11,
   "metadata": {},
   "outputs": [],
   "source": [
    "def get_image(smiles:str, smarts_id: int):\n",
    "    \"\"\"\n",
    "    Function to retrieve an image highlighting the region in a query structure\n",
    "    provided as a smiles string which triggers a particular reactive metabolite\n",
    "    alert specified by its smarts id.\n",
    "\n",
    "    Relevant smarts_id would be identified by an earlier search using the\n",
    "    /api/v1/search/smarts/smiles route.\n",
    "\n",
    "    Outputs an SVG image file smilesImage_<date>.svg\n",
    "    \"\"\"\n",
    "\n",
    "    url = BASEURL + \"/get/image/smiles\"\n",
    "    query = {\"smiles\": smiles, \"smarts_id\": smarts_id}\n",
    "    fileOutput = \"smilesImage_\" + str(datetime.datetime.now().date()) + \".svg\"\n",
    "    # change path as needed\n",
    "\n",
    "    response = requests.post(\n",
    "        url, data=json.dumps(query), headers=headers, auth=authData\n",
    "    )\n",
    "    if response.status_code == 200:\n",
    "        with open(fileOutput, \"wb\") as f:\n",
    "            f.write(response.content)\n",
    "        display(SVG(filename=fileOutput))\n",
    "        print(f\"SVG image saved as {fileOutput}\")\n",
    "    else:\n",
    "        print(\"There was an error: \" + json.loads(response.text)[\"message\"])"
   ]
  },
  {
   "cell_type": "code",
   "execution_count": 12,
   "metadata": {},
   "outputs": [
    {
     "data": {
      "image/svg+xml": [
       "<svg xmlns=\"http://www.w3.org/2000/svg\" xmlns:rdkit=\"http://www.rdkit.org/xml\" xmlns:xlink=\"http://www.w3.org/1999/xlink\" version=\"1.1\" baseProfile=\"full\" xml:space=\"preserve\" width=\"500px\" height=\"500px\" viewBox=\"0 0 500 500\">\n",
       "<!-- END OF HEADER -->\n",
       "<rect style=\"opacity:1.0;fill:#FFFFFF;stroke:none\" width=\"500.0\" height=\"500.0\" x=\"0.0\" y=\"0.0\"> </rect>\n",
       "<path class=\"bond-0 atom-0 atom-1\" d=\"M 296.9,340.5 L 319.9,353.8 L 214.9,414.5 L 214.9,387.9 Z\" style=\"fill:#FF7F7F;fill-rule:evenodd;fill-opacity:1;stroke:#FF7F7F;stroke-width:0.0px;stroke-linecap:butt;stroke-linejoin:miter;stroke-opacity:1;\"/>\n",
       "<path class=\"bond-8 atom-0 atom-7\" d=\"M 308.4,239.2 L 319.9,245.9 L 319.9,353.8 L 296.9,340.5 L 296.9,245.9 Z\" style=\"fill:#FF7F7F;fill-rule:evenodd;fill-opacity:1;stroke:#FF7F7F;stroke-width:0.0px;stroke-linecap:butt;stroke-linejoin:miter;stroke-opacity:1;\"/>\n",
       "<path class=\"bond-1 atom-1 atom-2\" d=\"M 132.8,340.5 L 214.9,387.9 L 214.9,414.5 L 109.8,353.8 Z\" style=\"fill:#FF7F7F;fill-rule:evenodd;fill-opacity:1;stroke:#FF7F7F;stroke-width:0.0px;stroke-linecap:butt;stroke-linejoin:miter;stroke-opacity:1;\"/>\n",
       "<path class=\"bond-2 atom-2 atom-3\" d=\"M 109.8,232.6 L 132.8,245.9 L 132.8,340.5 L 109.8,353.8 Z\" style=\"fill:#FF7F7F;fill-rule:evenodd;fill-opacity:1;stroke:#FF7F7F;stroke-width:0.0px;stroke-linecap:butt;stroke-linejoin:miter;stroke-opacity:1;\"/>\n",
       "<path class=\"bond-4 atom-3 atom-5\" d=\"M 214.9,171.9 L 214.9,198.5 L 132.8,245.9 L 109.8,232.6 Z\" style=\"fill:#FF7F7F;fill-rule:evenodd;fill-opacity:1;stroke:#FF7F7F;stroke-width:0.0px;stroke-linecap:butt;stroke-linejoin:miter;stroke-opacity:1;\"/>\n",
       "<path class=\"bond-6 atom-5 atom-7\" d=\"M 214.9,171.9 L 308.4,225.9 L 308.4,239.2 L 296.9,245.9 L 214.9,198.5 Z\" style=\"fill:#FF7F7F;fill-rule:evenodd;fill-opacity:1;stroke:#FF7F7F;stroke-width:0.0px;stroke-linecap:butt;stroke-linejoin:miter;stroke-opacity:1;\"/>\n",
       "<path class=\"bond-7 atom-7 atom-8\" d=\"M 396.1,175.2 L 407.7,195.2 L 319.9,245.9 L 308.4,239.2 L 308.4,225.9 Z\" style=\"fill:#FF7F7F;fill-rule:evenodd;fill-opacity:1;stroke:#FF7F7F;stroke-width:0.0px;stroke-linecap:butt;stroke-linejoin:miter;stroke-opacity:1;\"/>\n",
       "<ellipse cx=\"308.4\" cy=\"347.2\" rx=\"21.6\" ry=\"21.6\" class=\"atom-0\" style=\"fill:#FF7F7F;fill-rule:evenodd;stroke:#FF7F7F;stroke-width:1.0px;stroke-linecap:butt;stroke-linejoin:miter;stroke-opacity:1\"/>\n",
       "<ellipse cx=\"214.9\" cy=\"401.2\" rx=\"21.6\" ry=\"21.6\" class=\"atom-1\" style=\"fill:#FF7F7F;fill-rule:evenodd;stroke:#FF7F7F;stroke-width:1.0px;stroke-linecap:butt;stroke-linejoin:miter;stroke-opacity:1\"/>\n",
       "<ellipse cx=\"121.3\" cy=\"347.2\" rx=\"21.6\" ry=\"21.6\" class=\"atom-2\" style=\"fill:#FF7F7F;fill-rule:evenodd;stroke:#FF7F7F;stroke-width:1.0px;stroke-linecap:butt;stroke-linejoin:miter;stroke-opacity:1\"/>\n",
       "<ellipse cx=\"121.3\" cy=\"239.2\" rx=\"21.6\" ry=\"21.6\" class=\"atom-3\" style=\"fill:#FF7F7F;fill-rule:evenodd;stroke:#FF7F7F;stroke-width:1.0px;stroke-linecap:butt;stroke-linejoin:miter;stroke-opacity:1\"/>\n",
       "<ellipse cx=\"214.9\" cy=\"185.2\" rx=\"21.6\" ry=\"21.6\" class=\"atom-5\" style=\"fill:#FF7F7F;fill-rule:evenodd;stroke:#FF7F7F;stroke-width:1.0px;stroke-linecap:butt;stroke-linejoin:miter;stroke-opacity:1\"/>\n",
       "<ellipse cx=\"308.4\" cy=\"239.2\" rx=\"21.6\" ry=\"21.6\" class=\"atom-7\" style=\"fill:#FF7F7F;fill-rule:evenodd;stroke:#FF7F7F;stroke-width:1.0px;stroke-linecap:butt;stroke-linejoin:miter;stroke-opacity:1\"/>\n",
       "<ellipse cx=\"424.7\" cy=\"192.3\" rx=\"47.5\" ry=\"30.0\" class=\"atom-8\" style=\"fill:#FF7F7F;fill-rule:evenodd;stroke:#FF7F7F;stroke-width:1.0px;stroke-linecap:butt;stroke-linejoin:miter;stroke-opacity:1\"/>\n",
       "<path class=\"bond-0 atom-0 atom-1\" d=\"M 308.4,347.2 L 214.9,401.2\" style=\"fill:none;fill-rule:evenodd;stroke:#000000;stroke-width:2.0px;stroke-linecap:butt;stroke-linejoin:miter;stroke-opacity:1\"/>\n",
       "<path class=\"bond-0 atom-0 atom-1\" d=\"M 292.2,337.8 L 214.9,382.5\" style=\"fill:none;fill-rule:evenodd;stroke:#000000;stroke-width:2.0px;stroke-linecap:butt;stroke-linejoin:miter;stroke-opacity:1\"/>\n",
       "<path class=\"bond-1 atom-1 atom-2\" d=\"M 214.9,401.2 L 121.3,347.2\" style=\"fill:none;fill-rule:evenodd;stroke:#000000;stroke-width:2.0px;stroke-linecap:butt;stroke-linejoin:miter;stroke-opacity:1\"/>\n",
       "<path class=\"bond-2 atom-2 atom-3\" d=\"M 121.3,347.2 L 121.3,239.2\" style=\"fill:none;fill-rule:evenodd;stroke:#000000;stroke-width:2.0px;stroke-linecap:butt;stroke-linejoin:miter;stroke-opacity:1\"/>\n",
       "<path class=\"bond-2 atom-2 atom-3\" d=\"M 137.5,337.8 L 137.5,248.6\" style=\"fill:none;fill-rule:evenodd;stroke:#000000;stroke-width:2.0px;stroke-linecap:butt;stroke-linejoin:miter;stroke-opacity:1\"/>\n",
       "<path class=\"bond-3 atom-3 atom-4\" d=\"M 121.3,239.2 L 27.8,185.2\" style=\"fill:none;fill-rule:evenodd;stroke:#000000;stroke-width:2.0px;stroke-linecap:butt;stroke-linejoin:miter;stroke-opacity:1\"/>\n",
       "<path class=\"bond-4 atom-3 atom-5\" d=\"M 121.3,239.2 L 214.9,185.2\" style=\"fill:none;fill-rule:evenodd;stroke:#000000;stroke-width:2.0px;stroke-linecap:butt;stroke-linejoin:miter;stroke-opacity:1\"/>\n",
       "<path class=\"bond-5 atom-5 atom-6\" d=\"M 214.9,185.2 L 214.9,77.2\" style=\"fill:none;fill-rule:evenodd;stroke:#000000;stroke-width:2.0px;stroke-linecap:butt;stroke-linejoin:miter;stroke-opacity:1\"/>\n",
       "<path class=\"bond-6 atom-5 atom-7\" d=\"M 214.9,185.2 L 308.4,239.2\" style=\"fill:none;fill-rule:evenodd;stroke:#000000;stroke-width:2.0px;stroke-linecap:butt;stroke-linejoin:miter;stroke-opacity:1\"/>\n",
       "<path class=\"bond-6 atom-5 atom-7\" d=\"M 214.9,203.9 L 292.2,248.6\" style=\"fill:none;fill-rule:evenodd;stroke:#000000;stroke-width:2.0px;stroke-linecap:butt;stroke-linejoin:miter;stroke-opacity:1\"/>\n",
       "<path class=\"bond-7 atom-7 atom-8\" d=\"M 308.4,239.2 L 348.0,216.3\" style=\"fill:none;fill-rule:evenodd;stroke:#000000;stroke-width:2.0px;stroke-linecap:butt;stroke-linejoin:miter;stroke-opacity:1\"/>\n",
       "<path class=\"bond-7 atom-7 atom-8\" d=\"M 348.0,216.3 L 387.6,193.5\" style=\"fill:none;fill-rule:evenodd;stroke:#0000FF;stroke-width:2.0px;stroke-linecap:butt;stroke-linejoin:miter;stroke-opacity:1\"/>\n",
       "<path class=\"bond-8 atom-7 atom-0\" d=\"M 308.4,239.2 L 308.4,347.2\" style=\"fill:none;fill-rule:evenodd;stroke:#000000;stroke-width:2.0px;stroke-linecap:butt;stroke-linejoin:miter;stroke-opacity:1\"/>\n",
       "<path d=\"M 303.7,349.9 L 308.4,347.2 L 308.4,341.8\" style=\"fill:none;stroke:#000000;stroke-width:2.0px;stroke-linecap:butt;stroke-linejoin:miter;stroke-opacity:1;\"/>\n",
       "<path d=\"M 219.5,398.5 L 214.9,401.2 L 210.2,398.5\" style=\"fill:none;stroke:#000000;stroke-width:2.0px;stroke-linecap:butt;stroke-linejoin:miter;stroke-opacity:1;\"/>\n",
       "<path d=\"M 126.0,349.9 L 121.3,347.2 L 121.3,341.8\" style=\"fill:none;stroke:#000000;stroke-width:2.0px;stroke-linecap:butt;stroke-linejoin:miter;stroke-opacity:1;\"/>\n",
       "<path class=\"atom-8\" d=\"M 395.6 171.0 L 404.9 186.0 Q 405.8 187.5, 407.3 190.2 Q 408.8 192.9, 408.9 193.0 L 408.9 171.0 L 412.6 171.0 L 412.6 199.4 L 408.8 199.4 L 398.8 183.0 Q 397.6 181.0, 396.4 178.8 Q 395.2 176.6, 394.8 176.0 L 394.8 199.4 L 391.2 199.4 L 391.2 171.0 L 395.6 171.0 \" fill=\"#0000FF\"/>\n",
       "<path class=\"atom-8\" d=\"M 418.0 171.0 L 421.9 171.0 L 421.9 183.1 L 436.4 183.1 L 436.4 171.0 L 440.2 171.0 L 440.2 199.4 L 436.4 199.4 L 436.4 186.3 L 421.9 186.3 L 421.9 199.4 L 418.0 199.4 L 418.0 171.0 \" fill=\"#0000FF\"/>\n",
       "<path class=\"atom-8\" d=\"M 445.7 198.4 Q 446.4 196.6, 448.1 195.6 Q 449.7 194.6, 452.0 194.6 Q 454.8 194.6, 456.4 196.2 Q 458.0 197.7, 458.0 200.4 Q 458.0 203.2, 455.9 205.8 Q 453.9 208.4, 449.7 211.4 L 458.3 211.4 L 458.3 213.5 L 445.7 213.5 L 445.7 211.8 Q 449.2 209.3, 451.2 207.4 Q 453.3 205.6, 454.3 203.9 Q 455.3 202.3, 455.3 200.5 Q 455.3 198.7, 454.4 197.7 Q 453.5 196.7, 452.0 196.7 Q 450.5 196.7, 449.5 197.3 Q 448.5 198.0, 447.8 199.3 L 445.7 198.4 \" fill=\"#0000FF\"/>\n",
       "</svg>"
      ],
      "text/plain": [
       "<IPython.core.display.SVG object>"
      ]
     },
     "metadata": {},
     "output_type": "display_data"
    },
    {
     "name": "stdout",
     "output_type": "stream",
     "text": [
      "SVG image saved as smilesImage_2024-09-21.svg\n"
     ]
    }
   ],
   "source": [
    "get_image(\"c1ccc(C)c(C)c1N\", 1)"
   ]
  }
 ],
 "metadata": {
  "kernelspec": {
   "display_name": "Python 3",
   "language": "python",
   "name": "python3"
  },
  "language_info": {
   "codemirror_mode": {
    "name": "ipython",
    "version": 3
   },
   "file_extension": ".py",
   "mimetype": "text/x-python",
   "name": "python",
   "nbconvert_exporter": "python",
   "pygments_lexer": "ipython3",
   "version": "3.11.8"
  }
 },
 "nbformat": 4,
 "nbformat_minor": 2
}
