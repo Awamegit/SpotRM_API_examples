{
 "cells": [
  {
   "cell_type": "markdown",
   "metadata": {},
   "source": [
    "# SpotRM API with Python: retrieving results with image"
   ]
  },
  {
   "cell_type": "markdown",
   "metadata": {},
   "source": [
    "BSD 3-Clause License<br>\n",
    "Copyright (c) 2020, Awametox AB<br>\n",
    "You should have received a copy of the BSD 3-Clause License\n",
    "along with this script; <br>\n",
    "if not, see <https://github.com/Awamegit/SpotRM_API_examples/blob/master/LICENSE>\n"
   ]
  },
  {
   "cell_type": "code",
   "execution_count": 1,
   "metadata": {},
   "outputs": [],
   "source": [
    "import requests\n",
    "import json\n",
    "from requests.auth import HTTPBasicAuth\n",
    "import os\n",
    "import datetime\n",
    "from IPython.display import SVG # use in Jupyter"
   ]
  },
  {
   "cell_type": "code",
   "execution_count": 2,
   "metadata": {},
   "outputs": [],
   "source": [
    "#\n",
    "#  Start by defining the server, the access credentials and a few convenience shortcuts.\n",
    "#\n",
    "BASEURL = \"https://www.spotrm.com/api/v1\"\n",
    "# Read the your SpotRM username / password from the environment:\n",
    "authData = HTTPBasicAuth(os.environ[\"TEST_USERNAME\"], os.environ[\"TEST_PASSWORD\"])\n",
    "# Could also encode it in clear text in the script but take care shareing it or\n",
    "# using version control:\n",
    "# authData = HTTPBasicAuth('my_email@somewhere.com', 'my_super_secure_PassW0rd!')\n",
    "\n",
    "headers = {\"content-type\": \"application/json\"}"
   ]
  },
  {
   "cell_type": "markdown",
   "metadata": {},
   "source": [
    "Example of getting and using an authorisation access token rather than sending\n",
    "one's credentials with every request.\n",
    "\n",
    "Here using a smiles string based search"
   ]
  },
  {
   "cell_type": "code",
   "execution_count": 3,
   "metadata": {},
   "outputs": [],
   "source": [
    "#\n",
    "# Function to retrieve an image highlighting the region in a query structure\n",
    "# provided as a smiles string which triggers a particular reactive metabolite\n",
    "# alert specified by its smarts id.\n",
    "#\n",
    "# Relevant smarts_id would be identified by an earlier search using the\n",
    "# /api/v1/search/smarts/smiles route.\n",
    "#\n",
    "# Outputs an SVG image file smilesImage_<date>.svg\n",
    "#\n",
    "def getImage(smiles, smarts_id):\n",
    "    url = BASEURL + \"/get/image/smiles\"\n",
    "    query = {\"smiles\": smiles, \"smarts_id\": smarts_id}\n",
    "    fileOutput = \"smilesImage_\" + str(datetime.datetime.now().date()) + \".svg\"\n",
    "\n",
    "    response = requests.post(\n",
    "        url, data=json.dumps(query), headers=headers, auth=authData\n",
    "    )\n",
    "    if response.status_code == 200:\n",
    "        with open(fileOutput, \"wb\") as f:\n",
    "            f.write(response.content)\n",
    "        display(SVG(filename=fileOutput))\n",
    "    else:\n",
    "        print(\"There was an error: \" + json.loads(response.text)[\"message\"])"
   ]
  },
  {
   "cell_type": "code",
   "execution_count": 4,
   "metadata": {},
   "outputs": [
    {
     "data": {
      "image/svg+xml": [
       "<svg baseProfile=\"full\" height=\"500px\" version=\"1.1\" viewBox=\"0 0 500 500\" width=\"500px\" xml:space=\"preserve\" xmlns=\"http://www.w3.org/2000/svg\" xmlns:rdkit=\"http://www.rdkit.org/xml\" xmlns:xlink=\"http://www.w3.org/1999/xlink\">\n",
       "<!-- END OF HEADER -->\n",
       "<rect height=\"500\" style=\"opacity:1.0;fill:#FFFFFF;stroke:none\" width=\"500\" x=\"0\" y=\"0\"> </rect>\n",
       "<path d=\"M 307.435,348.626 L 212.532,403.418\" style=\"fill:none;fill-rule:evenodd;stroke:#FF7F7F;stroke-width:23px;stroke-linecap:butt;stroke-linejoin:miter;stroke-opacity:1\"/>\n",
       "<path d=\"M 307.435,348.626 L 307.435,239.042\" style=\"fill:none;fill-rule:evenodd;stroke:#FF7F7F;stroke-width:23px;stroke-linecap:butt;stroke-linejoin:miter;stroke-opacity:1\"/>\n",
       "<path d=\"M 212.532,403.418 L 117.63,348.626\" style=\"fill:none;fill-rule:evenodd;stroke:#FF7F7F;stroke-width:23px;stroke-linecap:butt;stroke-linejoin:miter;stroke-opacity:1\"/>\n",
       "<path d=\"M 117.63,348.626 L 117.63,239.042\" style=\"fill:none;fill-rule:evenodd;stroke:#FF7F7F;stroke-width:23px;stroke-linecap:butt;stroke-linejoin:miter;stroke-opacity:1\"/>\n",
       "<path d=\"M 117.63,239.042 L 212.532,184.25\" style=\"fill:none;fill-rule:evenodd;stroke:#FF7F7F;stroke-width:23px;stroke-linecap:butt;stroke-linejoin:miter;stroke-opacity:1\"/>\n",
       "<path d=\"M 212.532,184.25 L 307.435,239.042\" style=\"fill:none;fill-rule:evenodd;stroke:#FF7F7F;stroke-width:23px;stroke-linecap:butt;stroke-linejoin:miter;stroke-opacity:1\"/>\n",
       "<path d=\"M 307.435,239.042 L 402.338,184.25\" style=\"fill:none;fill-rule:evenodd;stroke:#FF7F7F;stroke-width:23px;stroke-linecap:butt;stroke-linejoin:miter;stroke-opacity:1\"/>\n",
       "<ellipse cx=\"307.435\" cy=\"348.626\" rx=\"21.9168\" ry=\"21.9168\" style=\"fill:#FF7F7F;fill-rule:evenodd;stroke:#FF7F7F;stroke-width:2px;stroke-linecap:butt;stroke-linejoin:miter;stroke-opacity:1\"/>\n",
       "<ellipse cx=\"212.532\" cy=\"403.418\" rx=\"21.9168\" ry=\"21.9168\" style=\"fill:#FF7F7F;fill-rule:evenodd;stroke:#FF7F7F;stroke-width:2px;stroke-linecap:butt;stroke-linejoin:miter;stroke-opacity:1\"/>\n",
       "<ellipse cx=\"117.63\" cy=\"348.626\" rx=\"21.9168\" ry=\"21.9168\" style=\"fill:#FF7F7F;fill-rule:evenodd;stroke:#FF7F7F;stroke-width:2px;stroke-linecap:butt;stroke-linejoin:miter;stroke-opacity:1\"/>\n",
       "<ellipse cx=\"117.63\" cy=\"239.042\" rx=\"21.9168\" ry=\"21.9168\" style=\"fill:#FF7F7F;fill-rule:evenodd;stroke:#FF7F7F;stroke-width:2px;stroke-linecap:butt;stroke-linejoin:miter;stroke-opacity:1\"/>\n",
       "<ellipse cx=\"212.532\" cy=\"184.25\" rx=\"21.9168\" ry=\"21.9168\" style=\"fill:#FF7F7F;fill-rule:evenodd;stroke:#FF7F7F;stroke-width:2px;stroke-linecap:butt;stroke-linejoin:miter;stroke-opacity:1\"/>\n",
       "<ellipse cx=\"307.435\" cy=\"239.042\" rx=\"21.9168\" ry=\"21.9168\" style=\"fill:#FF7F7F;fill-rule:evenodd;stroke:#FF7F7F;stroke-width:2px;stroke-linecap:butt;stroke-linejoin:miter;stroke-opacity:1\"/>\n",
       "<ellipse cx=\"424.263\" cy=\"184.25\" rx=\"53.3948\" ry=\"28.4121\" style=\"fill:#FF7F7F;fill-rule:evenodd;stroke:#FF7F7F;stroke-width:2px;stroke-linecap:butt;stroke-linejoin:miter;stroke-opacity:1\"/>\n",
       "<path class=\"bond-0\" d=\"M 307.435,348.626 L 212.532,403.418\" style=\"fill:none;fill-rule:evenodd;stroke:#000000;stroke-width:2px;stroke-linecap:butt;stroke-linejoin:miter;stroke-opacity:1\"/>\n",
       "<path class=\"bond-0\" d=\"M 282.241,337.864 L 215.809,376.218\" style=\"fill:none;fill-rule:evenodd;stroke:#000000;stroke-width:2px;stroke-linecap:butt;stroke-linejoin:miter;stroke-opacity:1\"/>\n",
       "<path class=\"bond-8\" d=\"M 307.435,348.626 L 307.435,239.042\" style=\"fill:none;fill-rule:evenodd;stroke:#000000;stroke-width:2px;stroke-linecap:butt;stroke-linejoin:miter;stroke-opacity:1\"/>\n",
       "<path class=\"bond-1\" d=\"M 212.532,403.418 L 117.63,348.626\" style=\"fill:none;fill-rule:evenodd;stroke:#000000;stroke-width:2px;stroke-linecap:butt;stroke-linejoin:miter;stroke-opacity:1\"/>\n",
       "<path class=\"bond-2\" d=\"M 117.63,348.626 L 117.63,239.042\" style=\"fill:none;fill-rule:evenodd;stroke:#000000;stroke-width:2px;stroke-linecap:butt;stroke-linejoin:miter;stroke-opacity:1\"/>\n",
       "<path class=\"bond-2\" d=\"M 139.547,332.188 L 139.547,255.479\" style=\"fill:none;fill-rule:evenodd;stroke:#000000;stroke-width:2px;stroke-linecap:butt;stroke-linejoin:miter;stroke-opacity:1\"/>\n",
       "<path class=\"bond-3\" d=\"M 117.63,239.042 L 22.7273,184.25\" style=\"fill:none;fill-rule:evenodd;stroke:#000000;stroke-width:2px;stroke-linecap:butt;stroke-linejoin:miter;stroke-opacity:1\"/>\n",
       "<path class=\"bond-4\" d=\"M 117.63,239.042 L 212.532,184.25\" style=\"fill:none;fill-rule:evenodd;stroke:#000000;stroke-width:2px;stroke-linecap:butt;stroke-linejoin:miter;stroke-opacity:1\"/>\n",
       "<path class=\"bond-5\" d=\"M 212.532,184.25 L 212.532,74.6655\" style=\"fill:none;fill-rule:evenodd;stroke:#000000;stroke-width:2px;stroke-linecap:butt;stroke-linejoin:miter;stroke-opacity:1\"/>\n",
       "<path class=\"bond-6\" d=\"M 212.532,184.25 L 307.435,239.042\" style=\"fill:none;fill-rule:evenodd;stroke:#000000;stroke-width:2px;stroke-linecap:butt;stroke-linejoin:miter;stroke-opacity:1\"/>\n",
       "<path class=\"bond-6\" d=\"M 215.809,211.449 L 282.241,249.803\" style=\"fill:none;fill-rule:evenodd;stroke:#000000;stroke-width:2px;stroke-linecap:butt;stroke-linejoin:miter;stroke-opacity:1\"/>\n",
       "<path class=\"bond-7\" d=\"M 307.435,239.042 L 346.971,216.215\" style=\"fill:none;fill-rule:evenodd;stroke:#000000;stroke-width:2px;stroke-linecap:butt;stroke-linejoin:miter;stroke-opacity:1\"/>\n",
       "<path class=\"bond-7\" d=\"M 346.971,216.215 L 386.507,193.389\" style=\"fill:none;fill-rule:evenodd;stroke:#0000FF;stroke-width:2px;stroke-linecap:butt;stroke-linejoin:miter;stroke-opacity:1\"/>\n",
       "<text dominant-baseline=\"central\" style=\"font-size:36px;font-style:normal;font-weight:normal;fill-opacity:1;stroke:none;font-family:sans-serif;fill:#0000FF\" text-anchor=\"start\" x=\"390.525\" y=\"190.277\"><tspan>NH</tspan><tspan style=\"baseline-shift:sub;font-size:27px;\">2</tspan><tspan/></text>\n",
       "</svg>"
      ],
      "text/plain": [
       "<IPython.core.display.SVG object>"
      ]
     },
     "metadata": {},
     "output_type": "display_data"
    }
   ],
   "source": [
    "if __name__ == \"__main__\":\n",
    "\n",
    "    getImage(\"c1ccc(C)c(C)c1N\", 1)"
   ]
  }
 ],
 "metadata": {
  "kernelspec": {
   "display_name": "Python 3",
   "language": "python",
   "name": "python3"
  },
  "language_info": {
   "codemirror_mode": {
    "name": "ipython",
    "version": 3
   },
   "file_extension": ".py",
   "mimetype": "text/x-python",
   "name": "python",
   "nbconvert_exporter": "python",
   "pygments_lexer": "ipython3",
   "version": "3.7.4"
  }
 },
 "nbformat": 4,
 "nbformat_minor": 2
}
